{
 "cells": [
  {
   "cell_type": "code",
   "execution_count": 2,
   "metadata": {},
   "outputs": [],
   "source": [
    "# to load and view norms of prob and scores\n",
    "import os, sys\n",
    "\n",
    "base_dir = \"../\"\n",
    "raw_score_table_name = \"0_0_table.npy\"\n",
    "agg_score_table_name = \"0_0.npy\"\n",
    "\n",
    "table_prob_name = \"probabilities_table.json\"\n",
    "prob_name = \"probabilities.json\"\n"
   ]
  },
  {
   "cell_type": "code",
   "execution_count": 3,
   "metadata": {},
   "outputs": [],
   "source": [
    "def get_ranking_dir(name):\n",
    "    return os.path.join(base_dir, \"ranking\", name)\n",
    "\n",
    "def get_generated_dir(name):\n",
    "    return os.path.join(base_dir, \"generated\", name)\n",
    "\n",
    "\n",
    "import numpy as np\n",
    "import json\n",
    "def describe_agg_score(name):\n",
    "    agg_score_table = np.load(os.path.join(get_ranking_dir(name), agg_score_table_name))\n",
    "    print(\"avg max in group agg_score_table\", np.mean(np.max(agg_score_table, axis=1)))\n",
    "    print(\"avg min in group agg_score_table\", np.mean(np.min(agg_score_table, axis=1)))\n",
    "\n",
    "def describe_raw_score(name):\n",
    "    raw_score_table = np.load(os.path.join(get_ranking_dir(name), raw_score_table_name))\n",
    "    print(\"avg max in group raw_score_table\", np.mean(np.max(raw_score_table, axis=(1,2))))\n",
    "    print(\"avg min in group raw_score_table\", np.mean(np.min(raw_score_table, axis=(1,2))))\n",
    "    \n",
    "\n",
    "def describe_prob(name):\n",
    "    if os.path.exists(os.path.join(get_generated_dir(name), prob_name)):\n",
    "        prob = json.load(open(os.path.join(get_generated_dir(name), prob_name)))\n",
    "        prob = np.array(prob)\n",
    "        print(\"avg max in group prob\", np.mean(np.max(prob, axis=(1,2))))\n",
    "        print(\"avg min in group prob\", np.mean(np.min(prob, axis=(1,2))))\n",
    "    else:\n",
    "        print(\"prob path {} does not exist\".format(os.path.join(get_generated_dir(name), prob_name)))\n",
    "\n",
    "def describe_table_prob(name):\n",
    "    if os.path.exists(os.path.join(get_generated_dir(name), table_prob_name)):\n",
    "        table_prob = json.load(open(os.path.join(get_generated_dir(name), table_prob_name)))\n",
    "        table_prob = np.array(table_prob)\n",
    "        print(\"avg max in group table_prob\", np.mean(np.max(table_prob, axis=(1,2))))\n",
    "        print(\"avg min in group table_prob\", np.mean(np.min(table_prob, axis=(1,2))))\n",
    "    else:\n",
    "        print(\"table_prob path {} does not exist\".format(os.path.join(get_generated_dir(name), table_prob_name)))\n",
    "        \n",
    "\n",
    "def describe(name):\n",
    "    describe_agg_score(name)\n",
    "    describe_raw_score(name)\n",
    "    describe_prob(name)\n",
    "    describe_table_prob(name)"
   ]
  },
  {
   "cell_type": "code",
   "execution_count": 4,
   "metadata": {},
   "outputs": [
    {
     "name": "stdout",
     "output_type": "stream",
     "text": [
      "avg max in group agg_score_table 2.5771806\n",
      "avg min in group agg_score_table -2.4857545\n",
      "avg max in group raw_score_table 2.5032256\n",
      "avg min in group raw_score_table -2.5032256\n",
      "prob path ../generated/data-llama-3-8b-instruct-sppo-iter1-table_gp_2b_tau01/probabilities.json does not exist\n",
      "avg max in group table_prob 0.9293816928891345\n",
      "avg min in group table_prob 0.0706183065310458\n"
     ]
    }
   ],
   "source": [
    "name = \"data-llama-3-8b-instruct-sppo-iter1-table_gp_2b_tau01\"\n",
    "\n",
    "describe(name)"
   ]
  },
  {
   "cell_type": "code",
   "execution_count": 5,
   "metadata": {},
   "outputs": [
    {
     "name": "stdout",
     "output_type": "stream",
     "text": [
      "avg max in group agg_score_table 3.2985394\n",
      "avg min in group agg_score_table -3.057538\n",
      "avg max in group raw_score_table 3.1780798\n",
      "avg min in group raw_score_table -3.1780798\n",
      "prob path ../generated/data-llama-3-8b-instruct-sppo-iter1-table_bt_2b/probabilities.json does not exist\n",
      "avg max in group table_prob 0.9329258966727076\n",
      "avg min in group table_prob 0.06707410250727455\n"
     ]
    }
   ],
   "source": [
    "name = \"data-llama-3-8b-instruct-sppo-iter1-table_bt_2b\"\n",
    "\n",
    "describe(name)"
   ]
  },
  {
   "cell_type": "code",
   "execution_count": 6,
   "metadata": {},
   "outputs": [
    {
     "name": "stdout",
     "output_type": "stream",
     "text": [
      "avg max in group agg_score_table 6.464815\n",
      "avg min in group agg_score_table -6.7233615\n",
      "avg max in group raw_score_table 6.2239056\n",
      "avg min in group raw_score_table -6.2239056\n",
      "prob path ../generated/data-llama-3-8b-instruct-sppo-iter1-table_gp_8b_tau01/probabilities.json does not exist\n",
      "avg max in group table_prob 0.9849521640234854\n",
      "avg min in group table_prob 0.01504783594244774\n"
     ]
    }
   ],
   "source": [
    "name = \"data-llama-3-8b-instruct-sppo-iter1-table_gp_8b_tau01\"\n",
    "\n",
    "describe(name)"
   ]
  },
  {
   "cell_type": "code",
   "execution_count": 7,
   "metadata": {},
   "outputs": [
    {
     "name": "stdout",
     "output_type": "stream",
     "text": [
      "avg max in group agg_score_table 8.387435\n",
      "avg min in group agg_score_table -8.705816\n",
      "avg max in group raw_score_table 8.546682\n",
      "avg min in group raw_score_table -8.546682\n",
      "prob path ../generated/data-llama-3-8b-instruct-sppo-iter1-table_bt_8b/probabilities.json does not exist\n",
      "avg max in group table_prob 0.9854410196553227\n",
      "avg min in group table_prob 0.014558980276127714\n"
     ]
    }
   ],
   "source": [
    "name = \"data-llama-3-8b-instruct-sppo-iter1-table_bt_8b\"\n",
    "\n",
    "describe(name)"
   ]
  },
  {
   "cell_type": "code",
   "execution_count": 8,
   "metadata": {},
   "outputs": [
    {
     "name": "stdout",
     "output_type": "stream",
     "text": [
      "avg max in group agg_score_table 5.2589903\n",
      "avg min in group agg_score_table -5.586612\n",
      "avg max in group raw_score_table 5.4462233\n",
      "avg min in group raw_score_table -5.4888234\n",
      "avg max in group prob 0.9799045203047984\n",
      "avg min in group prob 0.02009547976734207\n",
      "avg max in group table_prob 0.961059318482371\n",
      "avg min in group table_prob 0.03894068151762897\n"
     ]
    }
   ],
   "source": [
    "name = \"data-llama-3-8b-instruct-sppo-iter1\"\n",
    "\n",
    "describe(name)"
   ]
  },
  {
   "cell_type": "code",
   "execution_count": 9,
   "metadata": {},
   "outputs": [
    {
     "name": "stdout",
     "output_type": "stream",
     "text": [
      "avg max in group agg_score_table 5.2589903\n",
      "avg min in group agg_score_table -5.586612\n",
      "avg max in group raw_score_table 5.4462233\n",
      "avg min in group raw_score_table -5.4888234\n",
      "prob path ../generated/data-llama-3-8b-instruct-sppo-score-iter1-table-0.001/probabilities.json does not exist\n",
      "avg max in group table_prob 10.772844104019963\n",
      "avg min in group table_prob -10.772844104019963\n"
     ]
    }
   ],
   "source": [
    "name = \"data-llama-3-8b-instruct-sppo-score-iter1-table-0.001\"\n",
    "\n",
    "describe(name)"
   ]
  },
  {
   "cell_type": "code",
   "execution_count": 10,
   "metadata": {},
   "outputs": [
    {
     "name": "stdout",
     "output_type": "stream",
     "text": [
      "avg max in group agg_score_table 6.464815\n",
      "avg min in group agg_score_table -6.7233615\n",
      "avg max in group raw_score_table 6.2239056\n",
      "avg min in group raw_score_table -6.2239056\n",
      "prob path ../generated/data-llama-3-8b-instruct-sppo-score-iter1_gp_8b_tau01-table-0.001/probabilities.json does not exist\n",
      "avg max in group table_prob 12.338664819797886\n",
      "avg min in group table_prob -12.338664819797886\n"
     ]
    }
   ],
   "source": [
    "name = \"data-llama-3-8b-instruct-sppo-score-iter1_gp_8b_tau01-table-0.001\"\n",
    "\n",
    "describe(name)"
   ]
  },
  {
   "cell_type": "code",
   "execution_count": 11,
   "metadata": {},
   "outputs": [
    {
     "name": "stdout",
     "output_type": "stream",
     "text": [
      "avg max in group agg_score_table 6.464815\n",
      "avg min in group agg_score_table -6.7233615\n",
      "avg max in group raw_score_table 6.2239056\n",
      "avg min in group raw_score_table -6.2239056\n",
      "prob path ../generated/data-llama-3-8b-instruct-sppo-score-iter1_gp_8b-table-0.02/probabilities.json does not exist\n",
      "avg max in group table_prob 12.338664819797886\n",
      "avg min in group table_prob -12.338664819797886\n"
     ]
    }
   ],
   "source": [
    "name = \"data-llama-3-8b-instruct-sppo-score-iter1_gp_8b-table-0.02\"\n",
    "\n",
    "describe(name)"
   ]
  }
 ],
 "metadata": {
  "kernelspec": {
   "display_name": "sppo",
   "language": "python",
   "name": "python3"
  },
  "language_info": {
   "codemirror_mode": {
    "name": "ipython",
    "version": 3
   },
   "file_extension": ".py",
   "mimetype": "text/x-python",
   "name": "python",
   "nbconvert_exporter": "python",
   "pygments_lexer": "ipython3",
   "version": "3.10.14"
  }
 },
 "nbformat": 4,
 "nbformat_minor": 2
}
